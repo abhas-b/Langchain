{
 "cells": [
  {
   "cell_type": "code",
   "execution_count": 8,
   "id": "4def92c5",
   "metadata": {},
   "outputs": [],
   "source": [
    "from dotenv import load_dotenv\n",
    "import os\n",
    "\n",
    "from langchain_openai import ChatOpenAI\n",
    "from langchain.prompts import SystemMessagePromptTemplate, HumanMessagePromptTemplate, AIMessagePromptTemplate"
   ]
  },
  {
   "cell_type": "code",
   "execution_count": 5,
   "id": "980f8422",
   "metadata": {},
   "outputs": [],
   "source": [
    "load_dotenv(override=True)\n",
    "\n",
    "openai_model = \"gpt-4o-mini\""
   ]
  },
  {
   "cell_type": "code",
   "execution_count": 10,
   "id": "3970e5e3",
   "metadata": {},
   "outputs": [],
   "source": [
    "llm = ChatOpenAI(model=openai_model, temperature=0.1)\n",
    "system_message = SystemMessagePromptTemplate.from_template(\"\"\"\n",
    "You are a helpful assistant that helps generate article titles.\n",
    "\"\"\")"
   ]
  },
  {
   "cell_type": "code",
   "execution_count": 11,
   "id": "9c7a77ab",
   "metadata": {},
   "outputs": [],
   "source": [
    "article_text = \"\"\"AI is a useful tool for creative purposes. It can write text, create images and videos and act as a useful\n",
    "assistant to the creator. Rather than thinking of AI as a threat, we need to embrace its power to be more productive\n",
    "and experiment more and delegate the mundaneness to our digital assistant.\"\"\""
   ]
  },
  {
   "cell_type": "code",
   "execution_count": 14,
   "id": "eeb5232c",
   "metadata": {},
   "outputs": [],
   "source": [
    "user_prompt = HumanMessagePromptTemplate.from_template(\n",
    "    \"\"\"You are looking at an article text:\n",
    "    \n",
    "    ---\n",
    "    \n",
    "    {article_text}\n",
    "\n",
    "    --- \n",
    "    Generate a suitable title for the same.\n",
    "    The tone of the title should be comic yet catchy.\"\"\",\n",
    "    input_variables=[\"article_text\"]\n",
    ")"
   ]
  },
  {
   "cell_type": "code",
   "execution_count": 15,
   "id": "959d727a",
   "metadata": {},
   "outputs": [
    {
     "data": {
      "text/plain": [
       "HumanMessage(content='You are looking at an article text:\\n    \\n    ---\\n    \\n    AI is a useful tool for creative purposes. It can write text, create images and videos and act as a useful\\nassistant to the creator. Rather than thinking of AI as a threat, we need to embrace its power to be more productive\\nand experiment more and delegate the mundaneness to our digital assistant.\\n\\n    --- \\n    Generate a suitable title for the same.\\n    The tone of the title should be comic yet catchy.', additional_kwargs={}, response_metadata={})"
      ]
     },
     "execution_count": 15,
     "metadata": {},
     "output_type": "execute_result"
    }
   ],
   "source": [
    "user_prompt.format(article_text=article_text)"
   ]
  },
  {
   "cell_type": "code",
   "execution_count": null,
   "id": "a50a7f64",
   "metadata": {},
   "outputs": [],
   "source": []
  },
  {
   "cell_type": "code",
   "execution_count": null,
   "id": "da876f28",
   "metadata": {},
   "outputs": [],
   "source": [
    "llm.invoke({})"
   ]
  }
 ],
 "metadata": {
  "kernelspec": {
   "display_name": "llms",
   "language": "python",
   "name": "python3"
  },
  "language_info": {
   "codemirror_mode": {
    "name": "ipython",
    "version": 3
   },
   "file_extension": ".py",
   "mimetype": "text/x-python",
   "name": "python",
   "nbconvert_exporter": "python",
   "pygments_lexer": "ipython3",
   "version": "3.11.11"
  }
 },
 "nbformat": 4,
 "nbformat_minor": 5
}
