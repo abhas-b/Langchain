{
 "cells": [
  {
   "cell_type": "code",
   "execution_count": 7,
   "id": "4def92c5",
   "metadata": {},
   "outputs": [],
   "source": [
    "from dotenv import load_dotenv\n",
    "import os\n",
    "\n",
    "from langchain_openai import ChatOpenAI\n",
    "from langchain.prompts import SystemMessagePromptTemplate, HumanMessagePromptTemplate, ChatPromptTemplate"
   ]
  },
  {
   "cell_type": "code",
   "execution_count": 8,
   "id": "980f8422",
   "metadata": {},
   "outputs": [],
   "source": [
    "load_dotenv(override=True)\n",
    "\n",
    "openai_model = \"gpt-4o-mini\"\n",
    "llm = ChatOpenAI(model=openai_model, temperature=0.1)"
   ]
  },
  {
   "cell_type": "code",
   "execution_count": null,
   "id": "dd220d0d",
   "metadata": {},
   "outputs": [],
   "source": [
    "article_text = \"\"\"AI is a useful tool for creative purposes. It can write text, create images and videos and act as a useful\n",
    "assistant to the creator. Rather than thinking of AI as a threat, we need to embrace its power to be more productive\n",
    "and experiment more and delegate the mundaneness to our digital assistant.\"\"\""
   ]
  },
  {
   "cell_type": "code",
   "execution_count": 10,
   "id": "3970e5e3",
   "metadata": {},
   "outputs": [],
   "source": [
    "system_message = SystemMessagePromptTemplate.from_template(\"\"\"\n",
    "You are a helpful assistant that helps generate article titles.\n",
    "\"\"\")"
   ]
  },
  {
   "cell_type": "code",
   "execution_count": 14,
   "id": "eeb5232c",
   "metadata": {},
   "outputs": [],
   "source": [
    "user_prompt = HumanMessagePromptTemplate.from_template(\n",
    "    \"\"\"You are looking at an article text:\n",
    "    ---\n",
    "    {article_text}\n",
    "    --- \n",
    "    Generate a suitable title for the same.\n",
    "    The tone of the title should be comic yet catchy.\"\"\",\n",
    "    input_variables=[\"article_text\"]\n",
    ")"
   ]
  },
  {
   "cell_type": "code",
   "execution_count": 15,
   "id": "959d727a",
   "metadata": {},
   "outputs": [
    {
     "data": {
      "text/plain": [
       "HumanMessage(content='You are looking at an article text:\\n    ---\\n    AI is a useful tool for creative purposes. It can write text, create images and videos and act as a useful\\nassistant to the creator. Rather than thinking of AI as a threat, we need to embrace its power to be more productive\\nand experiment more and delegate the mundaneness to our digital assistant.\\n    --- \\n    Generate a suitable title for the same.\\n    The tone of the title should be comic yet catchy.', additional_kwargs={}, response_metadata={})"
      ]
     },
     "execution_count": 15,
     "metadata": {},
     "output_type": "execute_result"
    }
   ],
   "source": [
    "# Using input_variables in the prompt template\n",
    "user_prompt.format(article_text=article_text)"
   ]
  },
  {
   "cell_type": "code",
   "execution_count": 16,
   "id": "a50a7f64",
   "metadata": {},
   "outputs": [],
   "source": [
    "first_prompt = ChatPromptTemplate.from_messages([system_message, user_prompt])"
   ]
  },
  {
   "cell_type": "code",
   "execution_count": 17,
   "id": "605615b9",
   "metadata": {},
   "outputs": [
    {
     "name": "stdout",
     "output_type": "stream",
     "text": [
      "System: \n",
      "You are a helpful assistant that helps generate article titles.\n",
      "\n",
      "Human: You are looking at an article text:\n",
      "    ---\n",
      "    AI is a useful tool for creative purposes. It can write text, create images and videos and act as a useful\n",
      "assistant to the creator. Rather than thinking of AI as a threat, we need to embrace its power to be more productive\n",
      "and experiment more and delegate the mundaneness to our digital assistant.\n",
      "    --- \n",
      "    Generate a suitable title for the same.\n",
      "    The tone of the title should be comic yet catchy.\n"
     ]
    }
   ],
   "source": [
    "print(first_prompt.format(article_text=article_text))"
   ]
  },
  {
   "cell_type": "markdown",
   "id": "96730cc8",
   "metadata": {},
   "source": [
    "Now my prompt is ready, I have defined my model as well as input. Now its time to feed the prompt to the model."
   ]
  },
  {
   "cell_type": "markdown",
   "id": "85211732",
   "metadata": {},
   "source": [
    "# Create chain using prompt and LLM.\n",
    "\n",
    "The chain will do the following:\n",
    "\n",
    "1. Format the prompt\n",
    "2. generate using LLM\n",
    "3. Output\n",
    "\n",
    "\n",
    "Chain is created using LCEL.\n",
    "\n",
    "In the following chain the output of LLM is an AIMessage"
   ]
  },
  {
   "cell_type": "code",
   "execution_count": 20,
   "id": "c579637c",
   "metadata": {},
   "outputs": [],
   "source": [
    "chain_one = ({\"article_text\": lambda x: x[\"article_text\"]} \n",
    "             | first_prompt\n",
    "             | llm\n",
    "             | {\"article_title\": lambda x: x.content})"
   ]
  },
  {
   "cell_type": "code",
   "execution_count": 38,
   "id": "59e355d5",
   "metadata": {},
   "outputs": [],
   "source": [
    "title_output = chain_one.invoke({\"article_text\": article_text})[\"article_title\"]"
   ]
  },
  {
   "cell_type": "code",
   "execution_count": 39,
   "id": "1b13347d",
   "metadata": {},
   "outputs": [
    {
     "data": {
      "text/plain": [
       "'\"AI: Your New Creative Sidekick – Because Who Needs Mundane When You Have a Digital Genie?\"'"
      ]
     },
     "execution_count": 39,
     "metadata": {},
     "output_type": "execute_result"
    }
   ],
   "source": [
    "title_output"
   ]
  },
  {
   "cell_type": "markdown",
   "id": "9e55f852",
   "metadata": {},
   "source": [
    "* So we have generated article title using LLM.\n",
    "\n",
    "* Next we'll patch this title with the article and generate an article summary."
   ]
  },
  {
   "cell_type": "code",
   "execution_count": 46,
   "id": "15e097cb",
   "metadata": {},
   "outputs": [],
   "source": [
    "second_system_prompt = SystemMessagePromptTemplate.from_template(\"\"\"You are a helpful assistant who is able to help in building good articles.\n",
    "                                                                 \"\"\")\n",
    "\n",
    "\n",
    "second_user_prompt = HumanMessagePromptTemplate.from_template(\"\"\"\n",
    "You have access to an article: \n",
    "{article_text} alongwith its title: {article_title}. \n",
    "Generate a crisp summary for the article using this information. Make sure that the summary is less than 100 characters.\n",
    "The description should be in a SEO compatible format and suitable to show up on Google when this appears in search results\"\"\",\n",
    "input_variables = [\"article_text\", \"article_title\"])\n",
    "\n",
    "\n",
    "second_prompt = ChatPromptTemplate([second_system_prompt, second_user_prompt])"
   ]
  },
  {
   "cell_type": "code",
   "execution_count": 47,
   "id": "ed331df2",
   "metadata": {},
   "outputs": [],
   "source": [
    "chain_two = (\n",
    "    {\n",
    "        \"article_text\": lambda x: x[\"article_text\"],\n",
    "        \"article_title\": lambda x: x[\"title\"]\n",
    "    }\n",
    "    | second_prompt\n",
    "    | llm\n",
    "    | {\"article_description\": lambda x: x.content}\n",
    ")"
   ]
  },
  {
   "cell_type": "code",
   "execution_count": 48,
   "id": "97dd0d69",
   "metadata": {},
   "outputs": [
    {
     "data": {
      "text/plain": [
       "{'article_description': 'Discover how AI enhances creativity by handling mundane tasks, making you more productive.'}"
      ]
     },
     "execution_count": 48,
     "metadata": {},
     "output_type": "execute_result"
    }
   ],
   "source": [
    "chain_two.invoke({\"article_text\": article_text, \"title\": title_output })"
   ]
  },
  {
   "cell_type": "code",
   "execution_count": null,
   "id": "8c8c24c1",
   "metadata": {},
   "outputs": [],
   "source": []
  }
 ],
 "metadata": {
  "kernelspec": {
   "display_name": "llms",
   "language": "python",
   "name": "python3"
  },
  "language_info": {
   "codemirror_mode": {
    "name": "ipython",
    "version": 3
   },
   "file_extension": ".py",
   "mimetype": "text/x-python",
   "name": "python",
   "nbconvert_exporter": "python",
   "pygments_lexer": "ipython3",
   "version": "3.11.11"
  }
 },
 "nbformat": 4,
 "nbformat_minor": 5
}
