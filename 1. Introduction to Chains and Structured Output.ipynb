{
 "cells": [
  {
   "cell_type": "code",
   "execution_count": 2,
   "id": "4def92c5",
   "metadata": {},
   "outputs": [],
   "source": [
    "from dotenv import load_dotenv\n",
    "import os\n",
    "\n",
    "from langchain_openai import ChatOpenAI\n",
    "from langchain.prompts import SystemMessagePromptTemplate, HumanMessagePromptTemplate, ChatPromptTemplate"
   ]
  },
  {
   "cell_type": "code",
   "execution_count": 3,
   "id": "980f8422",
   "metadata": {},
   "outputs": [],
   "source": [
    "load_dotenv(override=True)\n",
    "\n",
    "openai_model = \"gpt-4o-mini\"\n",
    "llm = ChatOpenAI(model=openai_model, temperature=0.1)"
   ]
  },
  {
   "cell_type": "code",
   "execution_count": 4,
   "id": "dd220d0d",
   "metadata": {},
   "outputs": [],
   "source": [
    "article_text = \"\"\"AI is a useful tool for creative purposes. It can write text, create images and videos and act as a useful\n",
    "assistant to the creator. Rather than thinking of AI as a threat, we need to embrace its power to be more productive\n",
    "and experiment more and delegate the mundaneness to our digital assistant.\"\"\""
   ]
  },
  {
   "cell_type": "code",
   "execution_count": 5,
   "id": "3970e5e3",
   "metadata": {},
   "outputs": [],
   "source": [
    "system_message = SystemMessagePromptTemplate.from_template(\"\"\"\n",
    "You are a helpful assistant that helps generate article titles.\n",
    "\"\"\")"
   ]
  },
  {
   "cell_type": "code",
   "execution_count": 6,
   "id": "eeb5232c",
   "metadata": {},
   "outputs": [],
   "source": [
    "user_prompt = HumanMessagePromptTemplate.from_template(\n",
    "    \"\"\"You are looking at an article text:\n",
    "    ---\n",
    "    {article_text}\n",
    "    --- \n",
    "    Generate a suitable title for the same.\n",
    "    The tone of the title should be comic yet catchy.\"\"\",\n",
    "    input_variables=[\"article_text\"]\n",
    ")"
   ]
  },
  {
   "cell_type": "code",
   "execution_count": 7,
   "id": "959d727a",
   "metadata": {},
   "outputs": [
    {
     "data": {
      "text/plain": [
       "HumanMessage(content='You are looking at an article text:\\n    ---\\n    AI is a useful tool for creative purposes. It can write text, create images and videos and act as a useful\\nassistant to the creator. Rather than thinking of AI as a threat, we need to embrace its power to be more productive\\nand experiment more and delegate the mundaneness to our digital assistant.\\n    --- \\n    Generate a suitable title for the same.\\n    The tone of the title should be comic yet catchy.', additional_kwargs={}, response_metadata={})"
      ]
     },
     "execution_count": 7,
     "metadata": {},
     "output_type": "execute_result"
    }
   ],
   "source": [
    "# Using input_variables in the prompt template\n",
    "user_prompt.format(article_text=article_text)"
   ]
  },
  {
   "cell_type": "code",
   "execution_count": 8,
   "id": "a50a7f64",
   "metadata": {},
   "outputs": [],
   "source": [
    "first_prompt = ChatPromptTemplate.from_messages([system_message, user_prompt])"
   ]
  },
  {
   "cell_type": "code",
   "execution_count": 9,
   "id": "605615b9",
   "metadata": {},
   "outputs": [
    {
     "name": "stdout",
     "output_type": "stream",
     "text": [
      "System: \n",
      "You are a helpful assistant that helps generate article titles.\n",
      "\n",
      "Human: You are looking at an article text:\n",
      "    ---\n",
      "    AI is a useful tool for creative purposes. It can write text, create images and videos and act as a useful\n",
      "assistant to the creator. Rather than thinking of AI as a threat, we need to embrace its power to be more productive\n",
      "and experiment more and delegate the mundaneness to our digital assistant.\n",
      "    --- \n",
      "    Generate a suitable title for the same.\n",
      "    The tone of the title should be comic yet catchy.\n"
     ]
    }
   ],
   "source": [
    "print(first_prompt.format(article_text=article_text))"
   ]
  },
  {
   "cell_type": "markdown",
   "id": "96730cc8",
   "metadata": {},
   "source": [
    "Now my prompt is ready, I have defined my model as well as input. Now its time to feed the prompt to the model."
   ]
  },
  {
   "cell_type": "markdown",
   "id": "85211732",
   "metadata": {},
   "source": [
    "# Create chain using prompt and LLM.\n",
    "\n",
    "The chain will do the following:\n",
    "\n",
    "1. Format the prompt\n",
    "2. generate using LLM\n",
    "3. Output\n",
    "\n",
    "\n",
    "Chain is created using LCEL.\n",
    "\n",
    "In the following chain the output of LLM is an AIMessage"
   ]
  },
  {
   "cell_type": "code",
   "execution_count": 10,
   "id": "c579637c",
   "metadata": {},
   "outputs": [],
   "source": [
    "chain_one = ({\"article_text\": lambda x: x[\"article_text\"]} \n",
    "             | first_prompt\n",
    "             | llm\n",
    "             | {\"article_title\": lambda x: x.content})"
   ]
  },
  {
   "cell_type": "code",
   "execution_count": 11,
   "id": "59e355d5",
   "metadata": {},
   "outputs": [],
   "source": [
    "title_output = chain_one.invoke({\"article_text\": article_text})[\"article_title\"]"
   ]
  },
  {
   "cell_type": "code",
   "execution_count": 12,
   "id": "1b13347d",
   "metadata": {},
   "outputs": [
    {
     "data": {
      "text/plain": [
       "'\"Unleash Your Inner Picasso: How AI Can Turn You into a Creative Superhero!\"'"
      ]
     },
     "execution_count": 12,
     "metadata": {},
     "output_type": "execute_result"
    }
   ],
   "source": [
    "title_output"
   ]
  },
  {
   "cell_type": "markdown",
   "id": "9e55f852",
   "metadata": {},
   "source": [
    "* So we have generated article title using LLM.\n",
    "\n",
    "* Next we'll patch this title with the article and generate an article summary."
   ]
  },
  {
   "cell_type": "code",
   "execution_count": 13,
   "id": "15e097cb",
   "metadata": {},
   "outputs": [],
   "source": [
    "second_system_prompt = SystemMessagePromptTemplate.from_template(\"\"\"You are a helpful assistant who is able to help in building good articles.\n",
    "                                                                 \"\"\")\n",
    "\n",
    "\n",
    "second_user_prompt = HumanMessagePromptTemplate.from_template(\"\"\"\n",
    "You have access to an article: \n",
    "{article_text} alongwith its title: {article_title}. \n",
    "Generate a crisp summary for the article using this information. Make sure that the summary is less than 100 characters.\n",
    "The description should be in a SEO compatible format and suitable to show up on Google when this appears in search results\"\"\",\n",
    "input_variables = [\"article_text\", \"article_title\"])\n",
    "\n",
    "\n",
    "second_prompt = ChatPromptTemplate([second_system_prompt, second_user_prompt])"
   ]
  },
  {
   "cell_type": "code",
   "execution_count": 14,
   "id": "ed331df2",
   "metadata": {},
   "outputs": [],
   "source": [
    "chain_two = (\n",
    "    {\n",
    "        \"article_text\": lambda x: x[\"article_text\"],\n",
    "        \"article_title\": lambda x: x[\"title\"]\n",
    "    }\n",
    "    | second_prompt\n",
    "    | llm\n",
    "    | {\"article_summary\": lambda x: x.content}\n",
    ")"
   ]
  },
  {
   "cell_type": "code",
   "execution_count": 15,
   "id": "97dd0d69",
   "metadata": {},
   "outputs": [
    {
     "data": {
      "text/plain": [
       "{'article_summary': 'Discover how AI enhances creativity, empowering you to produce art and delegate mundane tasks.'}"
      ]
     },
     "execution_count": 15,
     "metadata": {},
     "output_type": "execute_result"
    }
   ],
   "source": [
    "article_summary = chain_two.invoke({\"article_text\": article_text, \"title\": title_output })\n",
    "article_summary"
   ]
  },
  {
   "cell_type": "markdown",
   "id": "f8a39f46",
   "metadata": {},
   "source": [
    "* We'll ask the LLM for unstructured outputs helping the user to write better. "
   ]
  },
  {
   "cell_type": "code",
   "execution_count": 16,
   "id": "8c8c24c1",
   "metadata": {},
   "outputs": [],
   "source": [
    "third_user_prompt = HumanMessagePromptTemplate.from_template(\"\"\"\n",
    "You are tasked with writing a new paragraph for the article.\n",
    "The article is as follows:\n",
    "{article_text}\n",
    "You can pick some part of the text and provide constructive feedback to the\n",
    "user so that they can improve their own writing.                                                  \n",
    "\"\"\",\n",
    "input_variables = [\"article_text\"])"
   ]
  },
  {
   "cell_type": "code",
   "execution_count": 17,
   "id": "2626d0d2",
   "metadata": {},
   "outputs": [],
   "source": [
    "third_prompt = ChatPromptTemplate.from_messages([system_message, third_user_prompt])"
   ]
  },
  {
   "cell_type": "code",
   "execution_count": 18,
   "id": "172fad25",
   "metadata": {},
   "outputs": [],
   "source": [
    "from pydantic import BaseModel, Field"
   ]
  },
  {
   "cell_type": "code",
   "execution_count": 19,
   "id": "4f2b5f37",
   "metadata": {},
   "outputs": [],
   "source": [
    "class Paragraph(BaseModel):\n",
    "    original_paragraph: str = Field(description=\"The original paragraph\")\n",
    "    edited_paragraph: str = Field(description=\"The improved paragraph as edited by the model\")\n",
    "    feedback: str = Field(description=\"Constructive feedback on the original paragraph\")"
   ]
  },
  {
   "cell_type": "code",
   "execution_count": 20,
   "id": "b168d302",
   "metadata": {},
   "outputs": [],
   "source": [
    "structured_llm = llm.with_structured_output(Paragraph)"
   ]
  },
  {
   "cell_type": "code",
   "execution_count": 21,
   "id": "25228b8c",
   "metadata": {},
   "outputs": [],
   "source": [
    "chain_three = (\n",
    "    {\"article_text\": lambda x: x[\"article_text\"]}\n",
    "    | third_prompt\n",
    "    | structured_llm\n",
    "    | {\n",
    "        \"original_paragraph\": lambda x: x.original_paragraph,\n",
    "        \"edited_paragraph\": lambda x: x.edited_paragraph,\n",
    "        \"feedback\": lambda x: x.feedback\n",
    "    }\n",
    ")"
   ]
  },
  {
   "cell_type": "code",
   "execution_count": 22,
   "id": "2f4dcc5e",
   "metadata": {},
   "outputs": [],
   "source": [
    "third_output = chain_three.invoke({\"article_text\": article_text})"
   ]
  },
  {
   "cell_type": "code",
   "execution_count": 23,
   "id": "e3cf09f8",
   "metadata": {},
   "outputs": [
    {
     "data": {
      "text/plain": [
       "{'original_paragraph': 'AI is a useful tool for creative purposes. It can write text, create images and videos and act as a useful to the creator. Rather than thinking of AI as a threat, we need to embrace its power to be more productive and experiment more and delegate the mundaneness to our digital assistant.',\n",
       " 'edited_paragraph': 'AI serves as a powerful ally in the realm of creativity, capable of generating text, crafting images, and producing videos. Instead of viewing AI as a potential threat, we should harness its capabilities to enhance our productivity, explore new ideas, and offload repetitive tasks to our digital assistants.',\n",
       " 'feedback': \"The original paragraph has a good foundation but could benefit from improved clarity and flow. The phrase 'act as a useful to the creator' is incomplete and should be revised for coherence. Additionally, the sentence structure can be varied to enhance readability. The edited version addresses these issues by providing a more fluid and engaging narrative.\"}"
      ]
     },
     "execution_count": 23,
     "metadata": {},
     "output_type": "execute_result"
    }
   ],
   "source": [
    "third_output"
   ]
  },
  {
   "cell_type": "code",
   "execution_count": null,
   "id": "332917e6",
   "metadata": {},
   "outputs": [],
   "source": []
  }
 ],
 "metadata": {
  "kernelspec": {
   "display_name": "llms",
   "language": "python",
   "name": "python3"
  },
  "language_info": {
   "codemirror_mode": {
    "name": "ipython",
    "version": 3
   },
   "file_extension": ".py",
   "mimetype": "text/x-python",
   "name": "python",
   "nbconvert_exporter": "python",
   "pygments_lexer": "ipython3",
   "version": "3.11.11"
  }
 },
 "nbformat": 4,
 "nbformat_minor": 5
}
