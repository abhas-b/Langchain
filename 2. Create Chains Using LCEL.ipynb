{
 "cells": [
  {
   "cell_type": "code",
   "execution_count": 43,
   "id": "39bbde26",
   "metadata": {},
   "outputs": [],
   "source": [
    "from langchain_core.prompts import (SystemMessagePromptTemplate, \n",
    "                                    HumanMessagePromptTemplate,\n",
    "                                    ChatPromptTemplate,\n",
    "                                    PromptTemplate)\n",
    "\n",
    "from langchain_openai import ChatOpenAI\n",
    "from langchain_core.output_parsers import StrOutputParser\n",
    "from pydantic import BaseModel, Field"
   ]
  },
  {
   "cell_type": "code",
   "execution_count": 4,
   "id": "77f688b7",
   "metadata": {},
   "outputs": [],
   "source": [
    "system_prompt = SystemMessagePromptTemplate.from_template(\n",
    "    \"You are an helpful AI assistant that can summarize information from a text.\"\n",
    ")"
   ]
  },
  {
   "cell_type": "code",
   "execution_count": 33,
   "id": "120c01cf",
   "metadata": {},
   "outputs": [],
   "source": [
    "user_prompt = HumanMessagePromptTemplate.from_template(\n",
    "    \"You are able to summarize information contained in a text: {input}. Limit response to 100 charcters\",\n",
    "    input_variables=[\"input\"]\n",
    ")"
   ]
  },
  {
   "cell_type": "code",
   "execution_count": 8,
   "id": "f7254a36",
   "metadata": {},
   "outputs": [],
   "source": [
    "test_string = \"\"\"When buying farmland in India, you must check land title deeds and encumbrance certificates to ensure clear ownership and no financial liabilities, along with revenue records like the Record of Rights (ROR)/, mutation register, and property tax receipts to confirm tax compliance and a clean transaction history. Physical checks of the land, including boundary demarcation, soil quality, and water availability, are crucial. Additionally, be aware of state-specific rules, potential land ceiling limits, the need for conversion permissions, and zoning regulations. \n",
    "Legal & Documentation Checks\n",
    "Title Deed & Ownership: Verify the seller's ownership and examine the title deed to ensure it's free from disputes. \n",
    "Encumbrance Certificate (EC): This certificate confirms the land is free from any financial or legal liabilities like mortgages. \n",
    "Record of Rights (ROR) / 7-12 Extract: This document provides a history of land ownership and cultivation, verifying past transactions. \n",
    "Mutation Register: Check for entries that confirm the land's ownership transfer over time. \n",
    "Property Tax & Land Tax Receipts: Ensure all land taxes are paid up to date. \n",
    "Survey Documents: Obtain documents like a survey map or sketch to confirm land boundaries. \n",
    "Legal Expertise: Consult a lawyer or real estate expert to review all documents for legal compliance and clarity. \n",
    "Physical & Land-Related Checks\n",
    "Site Inspection: Visit the property to assess soil quality, water sources, and overall land condition. \n",
    "Water Availability: Check for sufficient water sources, such as groundwater or irrigation facilities, which impact land productivity. \n",
    "Road Connectivity: Evaluate access to the farmland via roads, as this affects its value and accessibility. \n",
    "Boundary Demarcation: Ensure the land's boundaries are clearly marked to prevent future disputes. \n",
    "Regulatory & State-Specific Checks\n",
    "Land Classification & Use: Confirm the land's classification (e.g., for crop farming, horticulture) and check for zoning regulations that might restrict usage. \n",
    "State-Specific Restrictions: Research and understand the state's particular rules on who can buy agricultural land. \n",
    "Land Ceiling Limits: Be aware of state-specific limits on the maximum amount of agricultural land an individual can own. \n",
    "Conversion Permissions: If you plan to use the land for non-agricultural purposes, obtain the necessary conversion permissions from authorities. \n",
    "\"\"\""
   ]
  },
  {
   "cell_type": "code",
   "execution_count": 13,
   "id": "269a18bc",
   "metadata": {},
   "outputs": [
    {
     "data": {
      "text/plain": [
       "'You are able to summarize information contained in a text: When buying farmland in India, you must c'"
      ]
     },
     "execution_count": 13,
     "metadata": {},
     "output_type": "execute_result"
    }
   ],
   "source": [
    "user_prompt.format(input=test_string).content[:100]"
   ]
  },
  {
   "cell_type": "code",
   "execution_count": 34,
   "id": "b8aa8b57",
   "metadata": {},
   "outputs": [
    {
     "data": {
      "text/plain": [
       "[(langchain_core.prompts.chat.SystemMessagePromptTemplate, []),\n",
       " (langchain_core.prompts.chat.HumanMessagePromptTemplate, ['input'])]"
      ]
     },
     "execution_count": 34,
     "metadata": {},
     "output_type": "execute_result"
    }
   ],
   "source": [
    "prompt = ChatPromptTemplate.from_messages([system_prompt, user_prompt])\n",
    "[(message.__class__, message.input_variables) for message in prompt.messages]"
   ]
  },
  {
   "cell_type": "code",
   "execution_count": 16,
   "id": "82f1ac16",
   "metadata": {},
   "outputs": [],
   "source": [
    "llm = ChatOpenAI(model='gpt-4o-mini')"
   ]
  },
  {
   "cell_type": "code",
   "execution_count": 41,
   "id": "c86ac217",
   "metadata": {},
   "outputs": [
    {
     "data": {
      "text/plain": [
       "'Check deeds, certificates, taxes; inspect land, verify regulations before buying farmland in India.'"
      ]
     },
     "execution_count": 41,
     "metadata": {},
     "output_type": "execute_result"
    }
   ],
   "source": [
    "chain = (\n",
    "    {\"input\": lambda x: x[\"input\"]}\n",
    "    | prompt\n",
    "    | llm\n",
    "    | StrOutputParser()\n",
    ")\n",
    "\n",
    "response = chain.invoke({\"input\": test_string})\n",
    "response"
   ]
  },
  {
   "cell_type": "code",
   "execution_count": 42,
   "id": "fcc7ba35",
   "metadata": {},
   "outputs": [
    {
     "data": {
      "text/plain": [
       "'\"Essential Guide to Buying Farmland in India: Navigating Legal Checks, Land Inspection, and Regulatory Compliance\"'"
      ]
     },
     "execution_count": 42,
     "metadata": {},
     "output_type": "execute_result"
    }
   ],
   "source": [
    "system_prompt2 = SystemMessagePromptTemplate.from_template(\n",
    "    \"You are an expert on generating article titles.\"\n",
    ")\n",
    "\n",
    "user_prompt2 = HumanMessagePromptTemplate.from_template(\n",
    "    \"You are given an article: {article} and its summary: {article_summary}. Given these inputs, generate a suitable title for the article\",\n",
    "    input_variables=[\"article\", \"article_summary\"]\n",
    ")\n",
    "\n",
    "promp2 = ChatPromptTemplate.from_messages([system_prompt2, user_prompt2])\n",
    "chain2 = (\n",
    "    {\"article\": lambda x: x[\"article\"],\n",
    "     \"article_summary\": lambda x: x[\"article_summary\"]}\n",
    "     | promp2\n",
    "     | llm\n",
    "     | StrOutputParser()\n",
    ")\n",
    "\n",
    "chain2.invoke({'article': test_string, 'article_summary': response})"
   ]
  },
  {
   "cell_type": "code",
   "execution_count": 44,
   "id": "13413482",
   "metadata": {},
   "outputs": [],
   "source": [
    "class Article(BaseModel):\n",
    "    original_text: str = Field(description=\"Original Text\")\n",
    "    title:str = Field(description=\"AI generated title\")"
   ]
  },
  {
   "cell_type": "code",
   "execution_count": null,
   "id": "564ae460",
   "metadata": {},
   "outputs": [],
   "source": []
  },
  {
   "cell_type": "code",
   "execution_count": 49,
   "id": "3a3d2763",
   "metadata": {},
   "outputs": [],
   "source": [
    "structured_llm = llm.with_structured_output(Article)\n",
    "\n",
    "chain2 = (\n",
    "    {\"article\": lambda x: x[\"article\"],\n",
    "     \"article_summary\": lambda x: x[\"article_summary\"]}\n",
    "     | promp2\n",
    "     | structured_llm\n",
    "     | {\"original_text\": lambda x: x.original_text,\n",
    "        \"title\": lambda x: x.title}\n",
    ")\n",
    "\n",
    "response = chain2.invoke({'article': test_string, 'article_summary': response})"
   ]
  },
  {
   "cell_type": "code",
   "execution_count": 51,
   "id": "0cd40572",
   "metadata": {},
   "outputs": [
    {
     "name": "stdout",
     "output_type": "stream",
     "text": [
      "Original text: When buying farmland in India, you must check land title deeds and encumbrance certificates to ensur\n",
      "AI Generated title: Essential Checklist for Buying Farmland in India: Legal, Physical, and Regulatory Insights\n"
     ]
    }
   ],
   "source": [
    "print(\"Original text: \" + response[\"original_text\"][:100])\n",
    "print(\"AI Generated title: \" + response[\"title\"])"
   ]
  },
  {
   "cell_type": "code",
   "execution_count": null,
   "id": "92b7134d",
   "metadata": {},
   "outputs": [],
   "source": []
  }
 ],
 "metadata": {
  "kernelspec": {
   "display_name": ".venv",
   "language": "python",
   "name": "python3"
  },
  "language_info": {
   "codemirror_mode": {
    "name": "ipython",
    "version": 3
   },
   "file_extension": ".py",
   "mimetype": "text/x-python",
   "name": "python",
   "nbconvert_exporter": "python",
   "pygments_lexer": "ipython3",
   "version": "3.13.7"
  }
 },
 "nbformat": 4,
 "nbformat_minor": 5
}
